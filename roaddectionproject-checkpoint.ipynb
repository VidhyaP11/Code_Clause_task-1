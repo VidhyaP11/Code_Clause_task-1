{
 "cells": [
  {
   "cell_type": "markdown",
   "id": "105f976b",
   "metadata": {},
   "source": [
    "# ROAD LANE DETECTION WITH OPEN CV\n"
   ]
  },
  {
   "cell_type": "code",
   "execution_count": 24,
   "id": "774f42e1",
   "metadata": {},
   "outputs": [],
   "source": [
    "#IMPORTING FILES\n",
    "import cv2\n",
    "import numpy as np"
   ]
  },
  {
   "cell_type": "code",
   "execution_count": 25,
   "id": "c8b75a1f",
   "metadata": {},
   "outputs": [],
   "source": [
    "V=cv2.VideoCapture('roadv.mp4')\n"
   ]
  },
  {
   "cell_type": "code",
   "execution_count": 26,
   "id": "756c2bbc",
   "metadata": {},
   "outputs": [],
   "source": [
    "while True:\n",
    "    ret,f=V.read()\n",
    "    if not ret:\n",
    "        break\n",
    "    frame=cv2.GaussianBlur(f,(5,5),0)\n",
    "    hsv=cv2.cvtColor(frame,cv2.COLOR_BGR2HSV)\n",
    "    \n",
    "    l_y=np.array([18,94,140])\n",
    "    u_y=np.array([18,255,255])\n",
    "    \n",
    "    mask=cv2.inRange(hsv,l_y,u_y)\n",
    "    e=cv2.Canny(mask,74,150)\n",
    "    lines=cv2.HoughLinesP(e,1,np.pi/180,50,maxLineGap=50)\n",
    "    \n",
    "    if lines is not None:\n",
    "         for line in lines:\n",
    "            x1,y1,x2,y2=line[0]\n",
    "            cv2.line(frame,(x1,y1),(x2,y2),(0,255,0),5)\n",
    "            \n",
    "    cv2.imshow(\"frame\",frame)\n",
    "    cv2.imshow(\"edges\",e)\n",
    "    key=cv2.waitKey(25)\n",
    "\n",
    "              \n",
    "V.release()\n",
    "cv2.destroyAllWindows()\n"
   ]
  },
  {
   "cell_type": "code",
   "execution_count": null,
   "id": "c25af0b7",
   "metadata": {},
   "outputs": [],
   "source": []
  }
 ],
 "metadata": {
  "kernelspec": {
   "display_name": "Python 3 (ipykernel)",
   "language": "python",
   "name": "python3"
  },
  "language_info": {
   "codemirror_mode": {
    "name": "ipython",
    "version": 3
   },
   "file_extension": ".py",
   "mimetype": "text/x-python",
   "name": "python",
   "nbconvert_exporter": "python",
   "pygments_lexer": "ipython3",
   "version": "3.10.9"
  }
 },
 "nbformat": 4,
 "nbformat_minor": 5
}
